{
 "cells": [
  {
   "metadata": {},
   "cell_type": "markdown",
   "source": "",
   "id": "f141b96edcfbd662"
  },
  {
   "metadata": {},
   "cell_type": "markdown",
   "source": [
    "1. Create a straight line dataset using the linear regression formula (`weight * X + bias`).\n",
    "* Set `weight=0.3` and `bias=0.9` there should be at least 100 datapoints total.\n",
    "* Split the data into 80% training, 20% testing.\n",
    "* Plot the training and testing data so it becomes visual."
   ],
   "id": "b3989aeca530948a"
  },
  {
   "metadata": {
    "ExecuteTime": {
     "end_time": "2025-05-30T14:00:41.680210Z",
     "start_time": "2025-05-30T14:00:41.564159Z"
    }
   },
   "cell_type": "code",
   "source": [
    "import torch\n",
    "import seaborn as sns\n",
    "\n",
    "weight = 0.3\n",
    "bias = 0.9\n",
    "random_seed = 42\n",
    "train_size = 0.8\n",
    "device = torch.device(\"cuda:0\" if torch.cuda.is_available() else \"cpu\")\n",
    "\n",
    "torch.manual_seed(random_seed)\n",
    "X = torch.arange(start=0, end=1, step=0.01)\n",
    "y = X * weight + bias\n",
    "\n",
    "idx = torch.randperm(X.shape[0])\n",
    "X = X[idx]\n",
    "y = y[idx]\n",
    "\n",
    "X_train = X[:int(train_size * X.shape[0])]\n",
    "y_train = y[:int(train_size * X.shape[0])]\n",
    "X_test = X[int(train_size * X.shape[0]):]\n",
    "y_test = y[int(train_size * X.shape[0]):]\n",
    "\n",
    "ax = sns.scatterplot(x=X_train, y=y_train)\n",
    "ax = sns.scatterplot(x=X_test, y=y_test)\n",
    "ax.set(xlabel='x', ylabel='y')\n",
    "pass"
   ],
   "id": "7e88babb2c59d432",
   "outputs": [
    {
     "data": {
      "text/plain": [
       "<Figure size 640x480 with 1 Axes>"
      ],
      "image/png": "[encoded data removed]"
     },
     "metadata": {},
     "output_type": "display_data"
    }
   ],
   "execution_count": 33
  },
  {
   "metadata": {},
   "cell_type": "markdown",
   "source": [
    "2. Build a PyTorch model by subclassing `nn.Module`.\n",
    "* Inside should be a randomly initialized `nn.Parameter()` with requires_grad=True, one for weights and one for bias.\n",
    "* Implement the `forward()` method to compute the linear regression function you used to create the dataset in 1.\n",
    "* Once you've constructed the model, make an instance of it and check its `state_dict()`.\n",
    "Note: If you'd like to use `nn.Linear()` instead of `nn.Parameter()` you can.\n"
   ],
   "id": "ad05d2b5fbe9a36c"
  },
  {
   "metadata": {
    "ExecuteTime": {
     "end_time": "2025-05-30T14:00:41.829447Z",
     "start_time": "2025-05-30T14:00:41.826771Z"
    }
   },
   "cell_type": "code",
   "source": [
    "class LinearRegression(torch.nn.Module):\n",
    "    def __init__(self):\n",
    "        super(LinearRegression, self).__init__()\n",
    "        self.linear = torch.nn.Linear(in_features=1, out_features=1)\n",
    "\n",
    "    def forward(self, x: torch.Tensor) -> torch.Tensor:\n",
    "        return self.linear(x)"
   ],
   "id": "fdf098bcdc9a86ad",
   "outputs": [],
   "execution_count": 34
  },
  {
   "metadata": {
    "ExecuteTime": {
     "end_time": "2025-05-30T14:00:41.871229Z",
     "start_time": "2025-05-30T14:00:41.867579Z"
    }
   },
   "cell_type": "code",
   "source": [
    "model = LinearRegression()\n",
    "model.state_dict()"
   ],
   "id": "1aa4d9f19f8118f7",
   "outputs": [
    {
     "data": {
      "text/plain": [
       "OrderedDict([('linear.weight', tensor([[-0.9676]])),\n",
       "             ('linear.bias', tensor([-0.5727]))])"
      ]
     },
     "execution_count": 35,
     "metadata": {},
     "output_type": "execute_result"
    }
   ],
   "execution_count": 35
  },
  {
   "metadata": {},
   "cell_type": "markdown",
   "source": [
    "3. Create a loss function and optimizer using `nn.L1Loss()` and `torch.optim.SGD(params, lr)` respectively.\n",
    "* Set the learning rate of the optimizer to be 0.01 and the parameters to optimize should be the model parameters from the model you created in 2.\n",
    "* Write a training loop to perform the appropriate training steps for 300 epochs.\n",
    "* The training loop should test the model on the test dataset every 20 epochs.\n"
   ],
   "id": "74b84504fafca37"
  },
  {
   "metadata": {
    "ExecuteTime": {
     "end_time": "2025-05-30T14:00:41.937009Z",
     "start_time": "2025-05-30T14:00:41.933811Z"
    }
   },
   "cell_type": "code",
   "source": [
    "def training_loop(model, X_train, y_train, X_test, y_test, epochs):\n",
    "    loss = torch.nn.L1Loss()\n",
    "    optimizer = torch.optim.SGD(model.parameters(), lr=0.01)\n",
    "\n",
    "    for epoch in range(epochs):\n",
    "        y_pred = model(X_train)\n",
    "        l_train = loss(y_pred, y_train)\n",
    "        optimizer.zero_grad()\n",
    "        l_train.backward()\n",
    "        optimizer.step()\n",
    "\n",
    "        if epoch % 20 == 0:\n",
    "            model.eval()\n",
    "            with torch.inference_mode():\n",
    "                y_pred = model(X_test)\n",
    "                l_test = loss(y_pred, y_test)\n",
    "                print(f\"Train loss = {l_train}, Test loss = {l_test}\")"
   ],
   "id": "f18e964848d78f2a",
   "outputs": [],
   "execution_count": 36
  },
  {
   "metadata": {},
   "cell_type": "markdown",
   "source": [
    "4. Make predictions with the trained model on the test data.\n",
    "* Visualize these predictions against the original training and testing data (note: you may need to make sure the predictions are not on the GPU if you want to use non-CUDA-enabled libraries such as matplotlib to plot)."
   ],
   "id": "652e2cbd8100e6d6"
  },
  {
   "metadata": {
    "ExecuteTime": {
     "end_time": "2025-05-30T14:00:42.209645Z",
     "start_time": "2025-05-30T14:00:41.995799Z"
    }
   },
   "cell_type": "code",
   "source": [
    "X_train = X_train.unsqueeze(1)\n",
    "X_test = X_test.unsqueeze(1)\n",
    "y_train = y_train.unsqueeze(1)\n",
    "y_test = y_test.unsqueeze(1)\n",
    "X_train.to(device)\n",
    "y_train.to(device)\n",
    "X_test.to(device)\n",
    "y_test.to(device)\n",
    "\n",
    "training_loop(model, X_train, y_train, X_test, y_test, epochs=300)\n",
    "\n",
    "with torch.inference_mode():\n",
    "    y_pred = model(X_test)\n",
    "ax = sns.scatterplot(x=X_train.squeeze().cpu(), y=y_train.squeeze().cpu())\n",
    "ax = sns.scatterplot(x=X_test.squeeze().cpu(), y=y_pred.squeeze().cpu())\n",
    "ax.set(xlabel='x', ylabel='y')\n",
    "pass"
   ],
   "id": "22c38dd3afcaab4d",
   "outputs": [
    {
     "name": "stdout",
     "output_type": "stream",
     "text": [
      "Train loss = 2.1150238513946533, Test loss = 2.028282403945923\n",
      "Train loss = 1.8636643886566162, Test loss = 1.7828775644302368\n",
      "Train loss = 1.6123052835464478, Test loss = 1.5374724864959717\n",
      "Train loss = 1.3609459400177002, Test loss = 1.2920674085617065\n",
      "Train loss = 1.109586477279663, Test loss = 1.0466623306274414\n",
      "Train loss = 0.8582273721694946, Test loss = 0.8012576103210449\n",
      "Train loss = 0.6068683862686157, Test loss = 0.555853009223938\n",
      "Train loss = 0.35550951957702637, Test loss = 0.31044840812683105\n",
      "Train loss = 0.15331952273845673, Test loss = 0.1290087252855301\n",
      "Train loss = 0.09593093395233154, Test loss = 0.0954846739768982\n",
      "Train loss = 0.0821426585316658, Test loss = 0.08398169279098511\n",
      "Train loss = 0.071834996342659, Test loss = 0.0765189528465271\n",
      "Train loss = 0.06222248822450638, Test loss = 0.06688056886196136\n",
      "Train loss = 0.05264360457658768, Test loss = 0.0564909353852272\n",
      "Train loss = 0.04306472837924957, Test loss = 0.046101413667201996\n"
     ]
    },
    {
     "data": {
      "text/plain": [
       "<Figure size 640x480 with 1 Axes>"
      ],
      "image/png": "[encoded data removed]"
     },
     "metadata": {},
     "output_type": "display_data"
    }
   ],
   "execution_count": 37
  },
  {
   "metadata": {},
   "cell_type": "markdown",
   "source": [
    "5. Save your trained model's `state_dict()` to file.\n",
    "* Create a new instance of your model class you made in 2. and load in the `state_dict()` you just saved to it.\n",
    "* Perform predictions on your test data with the loaded model and confirm they match the original model predictions from 4."
   ],
   "id": "ad0e1c517a63cf40"
  },
  {
   "metadata": {
    "ExecuteTime": {
     "end_time": "2025-05-30T14:15:02.469150Z",
     "start_time": "2025-05-30T14:15:02.443383Z"
    }
   },
   "cell_type": "code",
   "source": [
    "torch.save(obj=model.state_dict(), f='test_model.pt')\n",
    "\n",
    "loaded_model = LinearRegression()\n",
    "loaded_model.load_state_dict(torch.load('test_model.pt', weights_only=True))\n",
    "loaded_model.to(device)\n",
    "\n",
    "loaded_model.eval()\n",
    "with torch.inference_mode():\n",
    "    loaded_model_preds = loaded_model(X_test.to(device))\n",
    "\n",
    "y_pred = y_pred.to(device)\n",
    "(y_pred == loaded_model_preds).cpu()"
   ],
   "id": "1c5b775d62433f0c",
   "outputs": [
    {
     "data": {
      "text/plain": [
       "tensor([[True],\n",
       "        [True],\n",
       "        [True],\n",
       "        [True],\n",
       "        [True],\n",
       "        [True],\n",
       "        [True],\n",
       "        [True],\n",
       "        [True],\n",
       "        [True],\n",
       "        [True],\n",
       "        [True],\n",
       "        [True],\n",
       "        [True],\n",
       "        [True],\n",
       "        [True],\n",
       "        [True],\n",
       "        [True],\n",
       "        [True],\n",
       "        [True]])"
      ]
     },
     "execution_count": 49,
     "metadata": {},
     "output_type": "execute_result"
    }
   ],
   "execution_count": 49
  },
  {
   "metadata": {},
   "cell_type": "code",
   "outputs": [],
   "execution_count": null,
   "source": "",
   "id": "b77d7c31f3bf9b1b"
  }
 ],
 "metadata": {
  "kernelspec": {
   "display_name": "Python [conda env:.conda-topography-env]",
   "language": "python",
   "name": "conda-env-.conda-topography-env-py"
  },
  "language_info": {
   "codemirror_mode": {
    "name": "ipython",
    "version": 2
   },
   "file_extension": ".py",
   "mimetype": "text/x-python",
   "name": "python",
   "nbconvert_exporter": "python",
   "pygments_lexer": "ipython2",
   "version": "2.7.6"
  }
 },
 "nbformat": 4,
 "nbformat_minor": 5
}
