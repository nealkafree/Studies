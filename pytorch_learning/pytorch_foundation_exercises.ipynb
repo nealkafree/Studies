{
 "cells": [
  {
   "metadata": {},
   "cell_type": "markdown",
   "source": [
    "## Notebook for pytorch foundation exercises\n",
    "https://www.learnpytorch.io/00_pytorch_fundamentals/#exercises"
   ],
   "id": "6c3ae0c501c253e5"
  },
  {
   "metadata": {},
   "cell_type": "markdown",
   "source": "1. Create a random tensor with shape `(7, 7)`",
   "id": "a3c288e316f3c0f1"
  },
  {
   "metadata": {
    "ExecuteTime": {
     "end_time": "2025-05-23T14:46:12.851260Z",
     "start_time": "2025-05-23T14:46:11.801211Z"
    }
   },
   "cell_type": "code",
   "source": [
    "import torch\n",
    "\n",
    "X = torch.rand(7, 7)\n",
    "X.shape"
   ],
   "id": "initial_id",
   "outputs": [
    {
     "data": {
      "text/plain": [
       "torch.Size([7, 7])"
      ]
     },
     "execution_count": 1,
     "metadata": {},
     "output_type": "execute_result"
    }
   ],
   "execution_count": 1
  },
  {
   "metadata": {},
   "cell_type": "markdown",
   "source": "2. Perform a matrix multiplication on the tensor from 1 with another random tensor with shape `(1, 7)`",
   "id": "991f6ac77deaa683"
  },
  {
   "metadata": {
    "ExecuteTime": {
     "end_time": "2025-05-23T14:47:58.857173Z",
     "start_time": "2025-05-23T14:47:58.852360Z"
    }
   },
   "cell_type": "code",
   "source": [
    "Y = torch.rand(1, 7)\n",
    "Y @ X"
   ],
   "id": "cab251cdabd06777",
   "outputs": [
    {
     "data": {
      "text/plain": [
       "tensor([[0.8966, 2.5625, 1.8968, 1.7336, 1.2835, 1.4096, 2.1108]])"
      ]
     },
     "execution_count": 3,
     "metadata": {},
     "output_type": "execute_result"
    }
   ],
   "execution_count": 3
  },
  {
   "metadata": {},
   "cell_type": "markdown",
   "source": "3. Set the random seed to 0 and do exercises 1 & 2 over again",
   "id": "628b73598c566a74"
  },
  {
   "metadata": {
    "ExecuteTime": {
     "end_time": "2025-05-23T14:56:08.947198Z",
     "start_time": "2025-05-23T14:56:08.940813Z"
    }
   },
   "cell_type": "code",
   "source": [
    "SEED = 0\n",
    "torch.manual_seed(SEED)\n",
    "X = torch.rand(7, 7)\n",
    "Y = torch.rand(1, 7)\n",
    "Y @ X"
   ],
   "id": "e393049e36f1d50e",
   "outputs": [
    {
     "data": {
      "text/plain": [
       "tensor([[2.1581, 1.9307, 2.8454, 2.6230, 1.9117, 2.0266, 1.4257]])"
      ]
     },
     "execution_count": 4,
     "metadata": {},
     "output_type": "execute_result"
    }
   ],
   "execution_count": 4
  },
  {
   "metadata": {},
   "cell_type": "markdown",
   "source": "4. Set the GPU random seed to `1234`",
   "id": "66bd9c386acc4634"
  },
  {
   "metadata": {
    "ExecuteTime": {
     "end_time": "2025-05-23T14:59:10.795093Z",
     "start_time": "2025-05-23T14:59:10.792503Z"
    }
   },
   "cell_type": "code",
   "source": "torch.cuda.manual_seed(1234)",
   "id": "3f212335c74ee2cc",
   "outputs": [],
   "execution_count": 6
  },
  {
   "metadata": {},
   "cell_type": "markdown",
   "source": "5. Create two random tensors of shape `(2, 3)` and send them both to the GPU (you'll need access to a GPU for this). Set `torch.manual_seed(1234)` when creating the tensors",
   "id": "6a85272f072360bb"
  },
  {
   "metadata": {
    "ExecuteTime": {
     "end_time": "2025-05-23T15:01:39.980363Z",
     "start_time": "2025-05-23T15:01:39.786199Z"
    }
   },
   "cell_type": "code",
   "source": [
    "X = torch.rand(2, 3, device=torch.device('cuda:0'))\n",
    "Y = torch.rand(2, 3, device=torch.device('cuda:0'))"
   ],
   "id": "e4dd6d22c16c7b87",
   "outputs": [],
   "execution_count": 7
  },
  {
   "metadata": {},
   "cell_type": "markdown",
   "source": "6. Perform a matrix multiplication on the tensors you created in 5",
   "id": "871777982a6e83da"
  },
  {
   "metadata": {
    "ExecuteTime": {
     "end_time": "2025-05-23T15:05:55.928928Z",
     "start_time": "2025-05-23T15:05:55.907125Z"
    }
   },
   "cell_type": "code",
   "source": "R = X @ Y.T",
   "id": "5bcd9e96a6ddd1a1",
   "outputs": [],
   "execution_count": 9
  },
  {
   "metadata": {},
   "cell_type": "markdown",
   "source": "7. Find the maximum and minimum values of the output of 6.",
   "id": "42bf3debad719da2"
  },
  {
   "metadata": {
    "ExecuteTime": {
     "end_time": "2025-05-23T15:06:32.730509Z",
     "start_time": "2025-05-23T15:06:32.715085Z"
    }
   },
   "cell_type": "code",
   "source": "print(R.max(), R.min())",
   "id": "6e15e6bc5e90a563",
   "outputs": [
    {
     "name": "stdout",
     "output_type": "stream",
     "text": [
      "tensor(0.7668, device='cuda:0') tensor(0.2786, device='cuda:0')\n"
     ]
    }
   ],
   "execution_count": 11
  },
  {
   "metadata": {},
   "cell_type": "markdown",
   "source": "8. Find the maximum and minimum index values of the output of 6.",
   "id": "90e8e95f24b6f0ab"
  },
  {
   "metadata": {
    "ExecuteTime": {
     "end_time": "2025-05-23T15:07:19.208069Z",
     "start_time": "2025-05-23T15:07:19.179389Z"
    }
   },
   "cell_type": "code",
   "source": "print(R.argmax(), R.argmin())",
   "id": "20e32809f5ed0089",
   "outputs": [
    {
     "name": "stdout",
     "output_type": "stream",
     "text": [
      "tensor(1, device='cuda:0') tensor(0, device='cuda:0')\n"
     ]
    }
   ],
   "execution_count": 12
  },
  {
   "metadata": {},
   "cell_type": "markdown",
   "source": "9. Make a random tensor with shape `(1, 1, 1, 10)` and then create a new tensor with all the 1 dimensions removed to be left with a tensor of shape `(10)`. Set the seed to 7 when you create it and print out the first tensor and it's shape as well as the second tensor and it's shape.\n",
   "id": "3f4ab1a0364d6ad8"
  },
  {
   "metadata": {
    "ExecuteTime": {
     "end_time": "2025-05-23T15:11:58.193749Z",
     "start_time": "2025-05-23T15:11:58.189109Z"
    }
   },
   "cell_type": "code",
   "source": [
    "torch.manual_seed(7)\n",
    "\n",
    "X = torch.rand(1, 1, 1, 10)\n",
    "Y = X.squeeze()\n",
    "print(X, X.shape)\n",
    "print(Y, Y.shape)"
   ],
   "id": "7fd8fbd2cf85c686",
   "outputs": [
    {
     "name": "stdout",
     "output_type": "stream",
     "text": [
      "tensor([[[[0.5349, 0.1988, 0.6592, 0.6569, 0.2328, 0.4251, 0.2071, 0.6297,\n",
      "           0.3653, 0.8513]]]]) torch.Size([1, 1, 1, 10])\n",
      "tensor([0.5349, 0.1988, 0.6592, 0.6569, 0.2328, 0.4251, 0.2071, 0.6297, 0.3653,\n",
      "        0.8513]) torch.Size([10])\n"
     ]
    }
   ],
   "execution_count": 13
  }
 ],
 "metadata": {
  "kernelspec": {
   "display_name": "Python [conda env:.conda-topography-env]",
   "language": "python",
   "name": "conda-env-.conda-topography-env-py"
  },
  "language_info": {
   "codemirror_mode": {
    "name": "ipython",
    "version": 2
   },
   "file_extension": ".py",
   "mimetype": "text/x-python",
   "name": "python",
   "nbconvert_exporter": "python",
   "pygments_lexer": "ipython2",
   "version": "2.7.6"
  }
 },
 "nbformat": 4,
 "nbformat_minor": 5
}
